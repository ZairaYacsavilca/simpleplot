{
 "cells": [
  {
   "cell_type": "code",
   "execution_count": 1,
   "id": "7136897a",
   "metadata": {},
   "outputs": [],
   "source": [
    "# EVALUACIÓN 2"
   ]
  },
  {
   "cell_type": "code",
   "execution_count": 2,
   "id": "8910e149",
   "metadata": {},
   "outputs": [
    {
     "ename": "ImportError",
     "evalue": "DLL load failed while importing _network: No se puede encontrar el módulo especificado.",
     "output_type": "error",
     "traceback": [
      "\u001b[1;31m---------------------------------------------------------------------------\u001b[0m",
      "\u001b[1;31mImportError\u001b[0m                               Traceback (most recent call last)",
      "Cell \u001b[1;32mIn[2], line 1\u001b[0m\n\u001b[1;32m----> 1\u001b[0m \u001b[38;5;28;01mimport\u001b[39;00m \u001b[38;5;21;01mos\u001b[39;00m\u001b[38;5;241m,\u001b[39m \u001b[38;5;21;01mgeopandas\u001b[39;00m \u001b[38;5;28;01mas\u001b[39;00m \u001b[38;5;21;01mgpd\u001b[39;00m\n",
      "File \u001b[1;32m~\\anaconda3\\envs\\SDS_2023_2_ZairaOsores\\Lib\\site-packages\\geopandas\\__init__.py:1\u001b[0m\n\u001b[1;32m----> 1\u001b[0m \u001b[38;5;28;01mfrom\u001b[39;00m \u001b[38;5;21;01mgeopandas\u001b[39;00m\u001b[38;5;21;01m.\u001b[39;00m\u001b[38;5;21;01m_config\u001b[39;00m \u001b[38;5;28;01mimport\u001b[39;00m options  \u001b[38;5;66;03m# noqa\u001b[39;00m\n\u001b[0;32m      3\u001b[0m \u001b[38;5;28;01mfrom\u001b[39;00m \u001b[38;5;21;01mgeopandas\u001b[39;00m\u001b[38;5;21;01m.\u001b[39;00m\u001b[38;5;21;01mgeoseries\u001b[39;00m \u001b[38;5;28;01mimport\u001b[39;00m GeoSeries  \u001b[38;5;66;03m# noqa\u001b[39;00m\n\u001b[0;32m      4\u001b[0m \u001b[38;5;28;01mfrom\u001b[39;00m \u001b[38;5;21;01mgeopandas\u001b[39;00m\u001b[38;5;21;01m.\u001b[39;00m\u001b[38;5;21;01mgeodataframe\u001b[39;00m \u001b[38;5;28;01mimport\u001b[39;00m GeoDataFrame  \u001b[38;5;66;03m# noqa\u001b[39;00m\n",
      "File \u001b[1;32m~\\anaconda3\\envs\\SDS_2023_2_ZairaOsores\\Lib\\site-packages\\geopandas\\_config.py:126\u001b[0m\n\u001b[0;32m    119\u001b[0m     \u001b[38;5;28;01mimport\u001b[39;00m \u001b[38;5;21;01mgeopandas\u001b[39;00m\u001b[38;5;21;01m.\u001b[39;00m\u001b[38;5;21;01m_compat\u001b[39;00m \u001b[38;5;28;01mas\u001b[39;00m \u001b[38;5;21;01mcompat\u001b[39;00m\n\u001b[0;32m    121\u001b[0m     compat\u001b[38;5;241m.\u001b[39mset_use_pygeos(value)\n\u001b[0;32m    124\u001b[0m use_pygeos \u001b[38;5;241m=\u001b[39m Option(\n\u001b[0;32m    125\u001b[0m     key\u001b[38;5;241m=\u001b[39m\u001b[38;5;124m\"\u001b[39m\u001b[38;5;124muse_pygeos\u001b[39m\u001b[38;5;124m\"\u001b[39m,\n\u001b[1;32m--> 126\u001b[0m     default_value\u001b[38;5;241m=\u001b[39m_default_use_pygeos(),\n\u001b[0;32m    127\u001b[0m     doc\u001b[38;5;241m=\u001b[39m(\n\u001b[0;32m    128\u001b[0m         \u001b[38;5;124m\"\u001b[39m\u001b[38;5;124mWhether to use PyGEOS to speed up spatial operations. The default is True \u001b[39m\u001b[38;5;124m\"\u001b[39m\n\u001b[0;32m    129\u001b[0m         \u001b[38;5;124m\"\u001b[39m\u001b[38;5;124mif PyGEOS is installed, and follows the USE_PYGEOS environment variable \u001b[39m\u001b[38;5;124m\"\u001b[39m\n\u001b[0;32m    130\u001b[0m         \u001b[38;5;124m\"\u001b[39m\u001b[38;5;124mif set.\u001b[39m\u001b[38;5;124m\"\u001b[39m\n\u001b[0;32m    131\u001b[0m     ),\n\u001b[0;32m    132\u001b[0m     validator\u001b[38;5;241m=\u001b[39m_validate_bool,\n\u001b[0;32m    133\u001b[0m     callback\u001b[38;5;241m=\u001b[39m_callback_use_pygeos,\n\u001b[0;32m    134\u001b[0m )\n\u001b[0;32m    137\u001b[0m options \u001b[38;5;241m=\u001b[39m Options({\u001b[38;5;124m\"\u001b[39m\u001b[38;5;124mdisplay_precision\u001b[39m\u001b[38;5;124m\"\u001b[39m: display_precision, \u001b[38;5;124m\"\u001b[39m\u001b[38;5;124muse_pygeos\u001b[39m\u001b[38;5;124m\"\u001b[39m: use_pygeos})\n",
      "File \u001b[1;32m~\\anaconda3\\envs\\SDS_2023_2_ZairaOsores\\Lib\\site-packages\\geopandas\\_config.py:112\u001b[0m, in \u001b[0;36m_default_use_pygeos\u001b[1;34m()\u001b[0m\n\u001b[0;32m    111\u001b[0m \u001b[38;5;28;01mdef\u001b[39;00m \u001b[38;5;21m_default_use_pygeos\u001b[39m():\n\u001b[1;32m--> 112\u001b[0m     \u001b[38;5;28;01mimport\u001b[39;00m \u001b[38;5;21;01mgeopandas\u001b[39;00m\u001b[38;5;21;01m.\u001b[39;00m\u001b[38;5;21;01m_compat\u001b[39;00m \u001b[38;5;28;01mas\u001b[39;00m \u001b[38;5;21;01mcompat\u001b[39;00m\n\u001b[0;32m    114\u001b[0m     \u001b[38;5;28;01mreturn\u001b[39;00m compat\u001b[38;5;241m.\u001b[39mUSE_PYGEOS\n",
      "File \u001b[1;32m~\\anaconda3\\envs\\SDS_2023_2_ZairaOsores\\Lib\\site-packages\\geopandas\\_compat.py:8\u001b[0m\n\u001b[0;32m      5\u001b[0m \u001b[38;5;28;01mimport\u001b[39;00m \u001b[38;5;21;01mwarnings\u001b[39;00m\n\u001b[0;32m      7\u001b[0m \u001b[38;5;28;01mimport\u001b[39;00m \u001b[38;5;21;01mpandas\u001b[39;00m \u001b[38;5;28;01mas\u001b[39;00m \u001b[38;5;21;01mpd\u001b[39;00m\n\u001b[1;32m----> 8\u001b[0m \u001b[38;5;28;01mimport\u001b[39;00m \u001b[38;5;21;01mpyproj\u001b[39;00m\n\u001b[0;32m      9\u001b[0m \u001b[38;5;28;01mimport\u001b[39;00m \u001b[38;5;21;01mshapely\u001b[39;00m\n\u001b[0;32m     10\u001b[0m \u001b[38;5;28;01mimport\u001b[39;00m \u001b[38;5;21;01mshapely\u001b[39;00m\u001b[38;5;21;01m.\u001b[39;00m\u001b[38;5;21;01mgeos\u001b[39;00m\n",
      "File \u001b[1;32m~\\anaconda3\\envs\\SDS_2023_2_ZairaOsores\\Lib\\site-packages\\pyproj\\__init__.py:33\u001b[0m\n\u001b[0;32m      1\u001b[0m \u001b[38;5;124;03m\"\"\"\u001b[39;00m\n\u001b[0;32m      2\u001b[0m \u001b[38;5;124;03mPython interface to PROJ (https://proj.org),\u001b[39;00m\n\u001b[0;32m      3\u001b[0m \u001b[38;5;124;03mcartographic projections and coordinate transformations library.\u001b[39;00m\n\u001b[1;32m   (...)\u001b[0m\n\u001b[0;32m     29\u001b[0m \u001b[38;5;124;03mSOFTWARE OR THE USE OR OTHER DEALINGS IN THE SOFTWARE.\u001b[39;00m\n\u001b[0;32m     30\u001b[0m \u001b[38;5;124;03m\"\"\"\u001b[39;00m\n\u001b[0;32m     31\u001b[0m \u001b[38;5;28;01mimport\u001b[39;00m \u001b[38;5;21;01mwarnings\u001b[39;00m\n\u001b[1;32m---> 33\u001b[0m \u001b[38;5;28;01mimport\u001b[39;00m \u001b[38;5;21;01mpyproj\u001b[39;00m\u001b[38;5;21;01m.\u001b[39;00m\u001b[38;5;21;01mnetwork\u001b[39;00m\n\u001b[0;32m     34\u001b[0m \u001b[38;5;28;01mfrom\u001b[39;00m \u001b[38;5;21;01mpyproj\u001b[39;00m\u001b[38;5;21;01m.\u001b[39;00m\u001b[38;5;21;01m_datadir\u001b[39;00m \u001b[38;5;28;01mimport\u001b[39;00m (  \u001b[38;5;66;03m# noqa: F401 pylint: disable=unused-import\u001b[39;00m\n\u001b[0;32m     35\u001b[0m     _pyproj_global_context_initialize,\n\u001b[0;32m     36\u001b[0m     set_use_global_context,\n\u001b[0;32m     37\u001b[0m )\n\u001b[0;32m     38\u001b[0m \u001b[38;5;28;01mfrom\u001b[39;00m \u001b[38;5;21;01mpyproj\u001b[39;00m\u001b[38;5;21;01m.\u001b[39;00m\u001b[38;5;21;01m_show_versions\u001b[39;00m \u001b[38;5;28;01mimport\u001b[39;00m (  \u001b[38;5;66;03m# noqa: F401 pylint: disable=unused-import\u001b[39;00m\n\u001b[0;32m     39\u001b[0m     show_versions,\n\u001b[0;32m     40\u001b[0m )\n",
      "File \u001b[1;32m~\\anaconda3\\envs\\SDS_2023_2_ZairaOsores\\Lib\\site-packages\\pyproj\\network.py:10\u001b[0m\n\u001b[0;32m      6\u001b[0m \u001b[38;5;28;01mfrom\u001b[39;00m \u001b[38;5;21;01mtyping\u001b[39;00m \u001b[38;5;28;01mimport\u001b[39;00m Union\n\u001b[0;32m      8\u001b[0m \u001b[38;5;28;01mimport\u001b[39;00m \u001b[38;5;21;01mcertifi\u001b[39;00m\n\u001b[1;32m---> 10\u001b[0m \u001b[38;5;28;01mfrom\u001b[39;00m \u001b[38;5;21;01mpyproj\u001b[39;00m\u001b[38;5;21;01m.\u001b[39;00m\u001b[38;5;21;01m_network\u001b[39;00m \u001b[38;5;28;01mimport\u001b[39;00m (  \u001b[38;5;66;03m# noqa: F401 pylint: disable=unused-import\u001b[39;00m\n\u001b[0;32m     11\u001b[0m     _set_ca_bundle_path,\n\u001b[0;32m     12\u001b[0m     is_network_enabled,\n\u001b[0;32m     13\u001b[0m     set_network_enabled,\n\u001b[0;32m     14\u001b[0m )\n\u001b[0;32m     17\u001b[0m \u001b[38;5;28;01mdef\u001b[39;00m \u001b[38;5;21mset_ca_bundle_path\u001b[39m(ca_bundle_path: Union[Path, \u001b[38;5;28mstr\u001b[39m, \u001b[38;5;28mbool\u001b[39m, \u001b[38;5;28;01mNone\u001b[39;00m] \u001b[38;5;241m=\u001b[39m \u001b[38;5;28;01mNone\u001b[39;00m) \u001b[38;5;241m-\u001b[39m\u001b[38;5;241m>\u001b[39m \u001b[38;5;28;01mNone\u001b[39;00m:\n\u001b[0;32m     18\u001b[0m \u001b[38;5;250m    \u001b[39m\u001b[38;5;124;03m\"\"\"\u001b[39;00m\n\u001b[0;32m     19\u001b[0m \u001b[38;5;124;03m    .. versionadded:: 3.0.0\u001b[39;00m\n\u001b[0;32m     20\u001b[0m \n\u001b[1;32m   (...)\u001b[0m\n\u001b[0;32m     40\u001b[0m \u001b[38;5;124;03m        variables.\u001b[39;00m\n\u001b[0;32m     41\u001b[0m \u001b[38;5;124;03m    \"\"\"\u001b[39;00m\n",
      "\u001b[1;31mImportError\u001b[0m: DLL load failed while importing _network: No se puede encontrar el módulo especificado."
     ]
    }
   ],
   "source": [
    "import os, geopandas as gpd"
   ]
  },
  {
   "cell_type": "code",
   "execution_count": null,
   "id": "0a15a005",
   "metadata": {},
   "outputs": [],
   "source": [
    "# Se leen las carpetas de los paises que en este caso son tres: paises, ríos y ciudades\n",
    "countries=gpd.read_file(os.path.join(\"maps\",\"World_Countries\",\"World_Countries.shp\"))\n",
    "rivers=gpd.read_file(os.path.join(\"maps\",\"World_Hydrography\",\"World_Hydrography.shp\"))\n",
    "cities=gpd.read_file(os.path.join(\"maps\",\"World_Cities\",\"World_Cities.shp\"))"
   ]
  },
  {
   "cell_type": "code",
   "execution_count": null,
   "id": "fc6e72c5",
   "metadata": {},
   "outputs": [],
   "source": [
    "# Tenemos puntos, líneas y polígonos\n",
    "# Vamos a identificar si cada uno de estos posee valores faltantes\n",
    "countries[ciudades.isna().any(axis=1)]"
   ]
  },
  {
   "cell_type": "code",
   "execution_count": null,
   "id": "3d89ac4c",
   "metadata": {},
   "outputs": [],
   "source": [
    "rivers[ciudades.isna().any(axis=1)]"
   ]
  },
  {
   "cell_type": "code",
   "execution_count": null,
   "id": "6717fe24",
   "metadata": {},
   "outputs": [],
   "source": [
    "cities[ciudades.isna().any(axis=1)]"
   ]
  },
  {
   "cell_type": "code",
   "execution_count": null,
   "id": "28ff0bd0",
   "metadata": {},
   "outputs": [],
   "source": [
    "# Solo utilizamos los mapas pero especificando el país, en mi caso el país que elegí -> Colombia\n",
    "colombia=countries[countries.COUNTRY=='Colombia']"
   ]
  },
  {
   "cell_type": "code",
   "execution_count": null,
   "id": "99920ad2",
   "metadata": {},
   "outputs": [],
   "source": [
    "# Proyectamos el mapa \n",
    "colombia.plot()"
   ]
  },
  {
   "cell_type": "code",
   "execution_count": null,
   "id": "477dbc8e",
   "metadata": {},
   "outputs": [],
   "source": [
    "# Solo conservamos las ciudades de Colombia y las proyectamos\n",
    "cities_colombia=cities[cities.COUNTRY=='Colombia']\n",
    "\n",
    "cities_brazil.plot()"
   ]
  },
  {
   "cell_type": "code",
   "execution_count": null,
   "id": "cc7d3364",
   "metadata": {},
   "outputs": [],
   "source": [
    "cities_colombia.head()"
   ]
  },
  {
   "cell_type": "code",
   "execution_count": null,
   "id": "d03f776e",
   "metadata": {},
   "outputs": [],
   "source": [
    "# Para conservar solo los ríos de Colombia utilizamos la función recorte\n",
    "rivers_colombia = gpd.clip(gdf=rivers,\n",
    "                               mask=colombia)"
   ]
  },
  {
   "cell_type": "code",
   "execution_count": null,
   "id": "89553a6e",
   "metadata": {},
   "outputs": [],
   "source": [
    "#Proyectamos los ríos\n",
    "rivers_colombia.plot()"
   ]
  },
  {
   "cell_type": "code",
   "execution_count": null,
   "id": "99a4b746",
   "metadata": {},
   "outputs": [],
   "source": [
    "rivers_colombia.head()"
   ]
  },
  {
   "cell_type": "code",
   "execution_count": null,
   "id": "05bcaa6f",
   "metadata": {},
   "outputs": [],
   "source": []
  }
 ],
 "metadata": {
  "kernelspec": {
   "display_name": "Python 3 (ipykernel)",
   "language": "python",
   "name": "python3"
  },
  "language_info": {
   "codemirror_mode": {
    "name": "ipython",
    "version": 3
   },
   "file_extension": ".py",
   "mimetype": "text/x-python",
   "name": "python",
   "nbconvert_exporter": "python",
   "pygments_lexer": "ipython3",
   "version": "3.11.4"
  }
 },
 "nbformat": 4,
 "nbformat_minor": 5
}
