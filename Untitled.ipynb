{
 "cells": [
  {
   "cell_type": "code",
   "execution_count": 2,
   "id": "7136897a",
   "metadata": {},
   "outputs": [],
   "source": [
    "# EVALUACIÓN 2"
   ]
  },
  {
   "cell_type": "code",
   "execution_count": 3,
   "id": "8910e149",
   "metadata": {},
   "outputs": [],
   "source": [
    "import os, geopandas as gpd"
   ]
  },
  {
   "cell_type": "code",
   "execution_count": null,
   "id": "0a15a005",
   "metadata": {},
   "outputs": [],
   "source": [
    "# Primero utilizamos los archivos de los mapas que en este caso son tres: paises, ríos y ciudades\n",
    "countries=gpd.read_file(os.path.join(\"maps\",\"World_Countries\",\"World_Countries.shp\"))\n",
    "rivers=gpd.read_file(os.path.join(\"maps\",\"World_Hydrography\",\"World_Hydrography.shp\"))\n",
    "cities=gpd.read_file(os.path.join(\"maps\",\"World_Cities\",\"World_Cities.shp\"))"
   ]
  },
  {
   "cell_type": "code",
   "execution_count": null,
   "id": "fc6e72c5",
   "metadata": {},
   "outputs": [],
   "source": [
    "# Tenemos puntos, líneas y polígonos\n",
    "# Vamos a identificar si cada uno de estos posee valores faltantes\n",
    "countries[ciudades.isna().any(axis=1)]"
   ]
  },
  {
   "cell_type": "code",
   "execution_count": null,
   "id": "3d89ac4c",
   "metadata": {},
   "outputs": [],
   "source": [
    "rivers[ciudades.isna().any(axis=1)]"
   ]
  },
  {
   "cell_type": "code",
   "execution_count": null,
   "id": "6717fe24",
   "metadata": {},
   "outputs": [],
   "source": [
    "cities[ciudades.isna().any(axis=1)]"
   ]
  },
  {
   "cell_type": "code",
   "execution_count": null,
   "id": "28ff0bd0",
   "metadata": {},
   "outputs": [],
   "source": [
    "# Solo utilizamos los mapas pero especificando el país, en mi caso el país que elegí -> Colombia\n",
    "colombia=countries[countries.COUNTRY=='Colombia']"
   ]
  },
  {
   "cell_type": "code",
   "execution_count": null,
   "id": "99920ad2",
   "metadata": {},
   "outputs": [],
   "source": [
    "# Proyectamos el mapa \n",
    "colombia.plot()"
   ]
  },
  {
   "cell_type": "code",
   "execution_count": null,
   "id": "477dbc8e",
   "metadata": {},
   "outputs": [],
   "source": [
    "# Solo conservamos las ciudades de Colombia y las proyectamos\n",
    "cities_colombia=cities[cities.COUNTRY=='Colombia']\n",
    "\n",
    "cities_brazil.plot()"
   ]
  },
  {
   "cell_type": "code",
   "execution_count": null,
   "id": "cc7d3364",
   "metadata": {},
   "outputs": [],
   "source": [
    "cities_colombia.head()"
   ]
  },
  {
   "cell_type": "code",
   "execution_count": null,
   "id": "d03f776e",
   "metadata": {},
   "outputs": [],
   "source": [
    "# Para conservar solo los ríos de Colombia utilizamos la función recorte\n",
    "rivers_colombia = gpd.clip(gdf=rivers,\n",
    "                               mask=colombia)"
   ]
  },
  {
   "cell_type": "code",
   "execution_count": null,
   "id": "89553a6e",
   "metadata": {},
   "outputs": [],
   "source": [
    "#Proyectamos los ríos\n",
    "rivers_colombia.plot()"
   ]
  },
  {
   "cell_type": "code",
   "execution_count": null,
   "id": "99a4b746",
   "metadata": {},
   "outputs": [],
   "source": [
    "rivers_colombia.head()"
   ]
  },
  {
   "cell_type": "code",
   "execution_count": null,
   "id": "05bcaa6f",
   "metadata": {},
   "outputs": [],
   "source": []
  }
 ],
 "metadata": {
  "kernelspec": {
   "display_name": "Python 3 (ipykernel)",
   "language": "python",
   "name": "python3"
  },
  "language_info": {
   "codemirror_mode": {
    "name": "ipython",
    "version": 3
   },
   "file_extension": ".py",
   "mimetype": "text/x-python",
   "name": "python",
   "nbconvert_exporter": "python",
   "pygments_lexer": "ipython3",
   "version": "3.11.4"
  }
 },
 "nbformat": 4,
 "nbformat_minor": 5
}
