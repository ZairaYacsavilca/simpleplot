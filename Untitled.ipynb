{
 "cells": [
  {
   "cell_type": "code",
   "execution_count": 2,
   "id": "7136897a",
   "metadata": {},
   "outputs": [],
   "source": [
    "# EVALUACIÓN 2"
   ]
  },
  {
   "cell_type": "code",
   "execution_count": 3,
   "id": "8910e149",
   "metadata": {},
   "outputs": [],
   "source": [
    "import os, geopandas as gpd\n",
    "\n",
    "countries=gpd.read_file(os.path.join(\"maps\",\"World_Countries\",\"World_Countries.shp\"))\n",
    "rivers=gpd.read_file(os.path.join(\"maps\",\"World_Hydrography\",\"World_Hydrography.shp\"))\n",
    "cities=gpd.read_file(os.path.join(\"maps\",\"World_Cities\",\"World_Cities.shp\"))"
   ]
  },
  {
   "cell_type": "code",
   "execution_count": 4,
   "id": "4204c643",
   "metadata": {},
   "outputs": [
    {
     "data": {
      "text/plain": [
       "geopandas.geodataframe.GeoDataFrame"
      ]
     },
     "execution_count": 4,
     "metadata": {},
     "output_type": "execute_result"
    }
   ],
   "source": [
    "# what is it?\n",
    "type(countries)"
   ]
  },
  {
   "cell_type": "code",
   "execution_count": 5,
   "id": "502a145c",
   "metadata": {},
   "outputs": [
    {
     "data": {
      "text/plain": [
       "(252, 2)"
      ]
     },
     "execution_count": 5,
     "metadata": {},
     "output_type": "execute_result"
    }
   ],
   "source": [
    "# dimensions\n",
    "countries.shape"
   ]
  },
  {
   "cell_type": "code",
   "execution_count": 6,
   "id": "518a98ad",
   "metadata": {},
   "outputs": [
    {
     "name": "stdout",
     "output_type": "stream",
     "text": [
      "<class 'geopandas.geodataframe.GeoDataFrame'>\n",
      "RangeIndex: 252 entries, 0 to 251\n",
      "Data columns (total 2 columns):\n",
      " #   Column    Non-Null Count  Dtype   \n",
      "---  ------    --------------  -----   \n",
      " 0   COUNTRY   252 non-null    object  \n",
      " 1   geometry  252 non-null    geometry\n",
      "dtypes: geometry(1), object(1)\n",
      "memory usage: 4.1+ KB\n"
     ]
    }
   ],
   "source": [
    "# types\n",
    "countries.info()"
   ]
  },
  {
   "cell_type": "code",
   "execution_count": null,
   "id": "fcee8cbf",
   "metadata": {},
   "outputs": [],
   "source": []
  },
  {
   "cell_type": "code",
   "execution_count": 7,
   "id": "41ef3bc1",
   "metadata": {},
   "outputs": [],
   "source": [
    "# Keep the maps for one country.\n",
    "colombia=countries[countries.COUNTRY=='Colombia']"
   ]
  },
  {
   "cell_type": "code",
   "execution_count": 8,
   "id": "486ae190",
   "metadata": {},
   "outputs": [
    {
     "name": "stderr",
     "output_type": "stream",
     "text": [
      "C:\\Users\\USUARIO\\anaconda3\\envs\\SDS_2023_2_ZairaOsores\\Lib\\site-packages\\geopandas\\plotting.py:48: ShapelyDeprecationWarning: The 'type' attribute is deprecated, and will be removed in the future. You can use the 'geom_type' attribute instead.\n",
      "  if geom is not None and geom.type.startswith(prefix) and not geom.is_empty:\n"
     ]
    },
    {
     "data": {
      "text/plain": [
       "<Axes: >"
      ]
     },
     "execution_count": 8,
     "metadata": {},
     "output_type": "execute_result"
    },
    {
     "data": {
      "image/png": "[encoded data removed]",
      "text/plain": [
       "<Figure size 640x480 with 1 Axes>"
      ]
     },
     "metadata": {},
     "output_type": "display_data"
    }
   ],
   "source": [
    "colombia.plot()"
   ]
  },
  {
   "cell_type": "code",
   "execution_count": 9,
   "id": "410ffb15",
   "metadata": {},
   "outputs": [
    {
     "data": {
      "text/plain": [
       "<Axes: >"
      ]
     },
     "execution_count": 9,
     "metadata": {},
     "output_type": "execute_result"
    },
    {
     "data": {
      "image/png": "[encoded data removed]",
      "text/plain": [
       "<Figure size 640x480 with 1 Axes>"
      ]
     },
     "metadata": {},
     "output_type": "display_data"
    }
   ],
   "source": [
    "cities_colombia=cities[cities.COUNTRY=='Colombia']\n",
    "\n",
    "# and of course\n",
    "cities_colombia.plot()"
   ]
  },
  {
   "cell_type": "code",
   "execution_count": 10,
   "id": "610348ac",
   "metadata": {},
   "outputs": [
    {
     "data": {
      "text/html": [
       "<div>\n",
       "<style scoped>\n",
       "    .dataframe tbody tr th:only-of-type {\n",
       "        vertical-align: middle;\n",
       "    }\n",
       "\n",
       "    .dataframe tbody tr th {\n",
       "        vertical-align: top;\n",
       "    }\n",
       "\n",
       "    .dataframe thead th {\n",
       "        text-align: right;\n",
       "    }\n",
       "</style>\n",
       "<table border=\"1\" class=\"dataframe\">\n",
       "  <thead>\n",
       "    <tr style=\"text-align: right;\">\n",
       "      <th></th>\n",
       "      <th>NAME</th>\n",
       "      <th>SYSTEM</th>\n",
       "      <th>geometry</th>\n",
       "    </tr>\n",
       "  </thead>\n",
       "  <tbody>\n",
       "    <tr>\n",
       "      <th>0</th>\n",
       "      <td>Aldan</td>\n",
       "      <td>Lena</td>\n",
       "      <td>LINESTRING (124.00678 56.47258, 123.25956 56.6...</td>\n",
       "    </tr>\n",
       "    <tr>\n",
       "      <th>1</th>\n",
       "      <td>Amazon</td>\n",
       "      <td>Amazon</td>\n",
       "      <td>MULTILINESTRING ((-61.27730 -3.60706, -60.6846...</td>\n",
       "    </tr>\n",
       "    <tr>\n",
       "      <th>2</th>\n",
       "      <td>Amu Darya</td>\n",
       "      <td>None</td>\n",
       "      <td>LINESTRING (73.98818 37.49952, 73.52595 37.528...</td>\n",
       "    </tr>\n",
       "    <tr>\n",
       "      <th>3</th>\n",
       "      <td>Amur</td>\n",
       "      <td>None</td>\n",
       "      <td>LINESTRING (122.63956 49.99730, 120.47874 49.2...</td>\n",
       "    </tr>\n",
       "    <tr>\n",
       "      <th>4</th>\n",
       "      <td>Angara</td>\n",
       "      <td>None</td>\n",
       "      <td>LINESTRING (105.07841 51.93053, 103.92959 51.7...</td>\n",
       "    </tr>\n",
       "  </tbody>\n",
       "</table>\n",
       "</div>"
      ],
      "text/plain": [
       "        NAME  SYSTEM                                           geometry\n",
       "0      Aldan    Lena  LINESTRING (124.00678 56.47258, 123.25956 56.6...\n",
       "1     Amazon  Amazon  MULTILINESTRING ((-61.27730 -3.60706, -60.6846...\n",
       "2  Amu Darya    None  LINESTRING (73.98818 37.49952, 73.52595 37.528...\n",
       "3       Amur    None  LINESTRING (122.63956 49.99730, 120.47874 49.2...\n",
       "4     Angara    None  LINESTRING (105.07841 51.93053, 103.92959 51.7..."
      ]
     },
     "execution_count": 10,
     "metadata": {},
     "output_type": "execute_result"
    }
   ],
   "source": [
    "rivers.head()"
   ]
  },
  {
   "cell_type": "code",
   "execution_count": 11,
   "id": "0862c4fd",
   "metadata": {},
   "outputs": [
    {
     "ename": "ImportError",
     "evalue": "Spatial indexes require either `rtree` or `pygeos`. See installation instructions at https://geopandas.org/install.html",
     "output_type": "error",
     "traceback": [
      "\u001b[1;31m---------------------------------------------------------------------------\u001b[0m",
      "\u001b[1;31mImportError\u001b[0m                               Traceback (most recent call last)",
      "Cell \u001b[1;32mIn[11], line 1\u001b[0m\n\u001b[1;32m----> 1\u001b[0m rivers_colombia \u001b[38;5;241m=\u001b[39m gpd\u001b[38;5;241m.\u001b[39mclip(gdf\u001b[38;5;241m=\u001b[39mrivers,\n\u001b[0;32m      2\u001b[0m                                mask\u001b[38;5;241m=\u001b[39mcolombia)\n\u001b[0;32m      4\u001b[0m \u001b[38;5;66;03m# you have:\u001b[39;00m\n\u001b[0;32m      6\u001b[0m rivers_colombia\u001b[38;5;241m.\u001b[39mplot()\n",
      "File \u001b[1;32m~\\anaconda3\\envs\\SDS_2023_2_ZairaOsores\\Lib\\site-packages\\geopandas\\tools\\clip.py:173\u001b[0m, in \u001b[0;36mclip\u001b[1;34m(gdf, mask, keep_geom_type)\u001b[0m\n\u001b[0;32m    170\u001b[0m     poly_gdf \u001b[38;5;241m=\u001b[39m \u001b[38;5;28;01mNone\u001b[39;00m\n\u001b[0;32m    172\u001b[0m \u001b[38;5;28;01mif\u001b[39;00m line_idx\u001b[38;5;241m.\u001b[39many():\n\u001b[1;32m--> 173\u001b[0m     line_gdf \u001b[38;5;241m=\u001b[39m _clip_line_poly(gdf[line_idx], poly)\n\u001b[0;32m    174\u001b[0m \u001b[38;5;28;01melse\u001b[39;00m:\n\u001b[0;32m    175\u001b[0m     line_gdf \u001b[38;5;241m=\u001b[39m \u001b[38;5;28;01mNone\u001b[39;00m\n",
      "File \u001b[1;32m~\\anaconda3\\envs\\SDS_2023_2_ZairaOsores\\Lib\\site-packages\\geopandas\\tools\\clip.py:64\u001b[0m, in \u001b[0;36m_clip_line_poly\u001b[1;34m(gdf, poly)\u001b[0m\n\u001b[0;32m     43\u001b[0m \u001b[38;5;28;01mdef\u001b[39;00m \u001b[38;5;21m_clip_line_poly\u001b[39m(gdf, poly):\n\u001b[0;32m     44\u001b[0m \u001b[38;5;250m    \u001b[39m\u001b[38;5;124;03m\"\"\"Clip line and polygon geometry to the polygon extent.\u001b[39;00m\n\u001b[0;32m     45\u001b[0m \n\u001b[0;32m     46\u001b[0m \u001b[38;5;124;03m    Clip an input line or polygon to the polygon extent of the poly\u001b[39;00m\n\u001b[1;32m   (...)\u001b[0m\n\u001b[0;32m     62\u001b[0m \u001b[38;5;124;03m        that intersects with poly.\u001b[39;00m\n\u001b[0;32m     63\u001b[0m \u001b[38;5;124;03m    \"\"\"\u001b[39;00m\n\u001b[1;32m---> 64\u001b[0m     gdf_sub \u001b[38;5;241m=\u001b[39m gdf\u001b[38;5;241m.\u001b[39miloc[gdf\u001b[38;5;241m.\u001b[39msindex\u001b[38;5;241m.\u001b[39mquery(poly, predicate\u001b[38;5;241m=\u001b[39m\u001b[38;5;124m\"\u001b[39m\u001b[38;5;124mintersects\u001b[39m\u001b[38;5;124m\"\u001b[39m)]\n\u001b[0;32m     66\u001b[0m     \u001b[38;5;66;03m# Clip the data with the polygon\u001b[39;00m\n\u001b[0;32m     67\u001b[0m     \u001b[38;5;28;01mif\u001b[39;00m \u001b[38;5;28misinstance\u001b[39m(gdf_sub, GeoDataFrame):\n",
      "File \u001b[1;32m~\\anaconda3\\envs\\SDS_2023_2_ZairaOsores\\Lib\\site-packages\\geopandas\\base.py:2630\u001b[0m, in \u001b[0;36mGeoPandasBase.sindex\u001b[1;34m(self)\u001b[0m\n\u001b[0;32m   2579\u001b[0m \u001b[38;5;129m@property\u001b[39m\n\u001b[0;32m   2580\u001b[0m \u001b[38;5;28;01mdef\u001b[39;00m \u001b[38;5;21msindex\u001b[39m(\u001b[38;5;28mself\u001b[39m):\n\u001b[0;32m   2581\u001b[0m \u001b[38;5;250m    \u001b[39m\u001b[38;5;124;03m\"\"\"Generate the spatial index\u001b[39;00m\n\u001b[0;32m   2582\u001b[0m \n\u001b[0;32m   2583\u001b[0m \u001b[38;5;124;03m    Creates R-tree spatial index based on ``pygeos.STRtree`` or\u001b[39;00m\n\u001b[1;32m   (...)\u001b[0m\n\u001b[0;32m   2628\u001b[0m \u001b[38;5;124;03m           [2]])\u001b[39;00m\n\u001b[0;32m   2629\u001b[0m \u001b[38;5;124;03m    \"\"\"\u001b[39;00m\n\u001b[1;32m-> 2630\u001b[0m     \u001b[38;5;28;01mreturn\u001b[39;00m \u001b[38;5;28mself\u001b[39m\u001b[38;5;241m.\u001b[39mgeometry\u001b[38;5;241m.\u001b[39mvalues\u001b[38;5;241m.\u001b[39msindex\n",
      "File \u001b[1;32m~\\anaconda3\\envs\\SDS_2023_2_ZairaOsores\\Lib\\site-packages\\geopandas\\array.py:309\u001b[0m, in \u001b[0;36mGeometryArray.sindex\u001b[1;34m(self)\u001b[0m\n\u001b[0;32m    306\u001b[0m \u001b[38;5;129m@property\u001b[39m\n\u001b[0;32m    307\u001b[0m \u001b[38;5;28;01mdef\u001b[39;00m \u001b[38;5;21msindex\u001b[39m(\u001b[38;5;28mself\u001b[39m):\n\u001b[0;32m    308\u001b[0m     \u001b[38;5;28;01mif\u001b[39;00m \u001b[38;5;28mself\u001b[39m\u001b[38;5;241m.\u001b[39m_sindex \u001b[38;5;129;01mis\u001b[39;00m \u001b[38;5;28;01mNone\u001b[39;00m:\n\u001b[1;32m--> 309\u001b[0m         \u001b[38;5;28mself\u001b[39m\u001b[38;5;241m.\u001b[39m_sindex \u001b[38;5;241m=\u001b[39m _get_sindex_class()(\u001b[38;5;28mself\u001b[39m\u001b[38;5;241m.\u001b[39mdata)\n\u001b[0;32m    310\u001b[0m     \u001b[38;5;28;01mreturn\u001b[39;00m \u001b[38;5;28mself\u001b[39m\u001b[38;5;241m.\u001b[39m_sindex\n",
      "File \u001b[1;32m~\\anaconda3\\envs\\SDS_2023_2_ZairaOsores\\Lib\\site-packages\\geopandas\\sindex.py:21\u001b[0m, in \u001b[0;36m_get_sindex_class\u001b[1;34m()\u001b[0m\n\u001b[0;32m     19\u001b[0m \u001b[38;5;28;01mif\u001b[39;00m compat\u001b[38;5;241m.\u001b[39mHAS_RTREE:\n\u001b[0;32m     20\u001b[0m     \u001b[38;5;28;01mreturn\u001b[39;00m RTreeIndex\n\u001b[1;32m---> 21\u001b[0m \u001b[38;5;28;01mraise\u001b[39;00m \u001b[38;5;167;01mImportError\u001b[39;00m(\n\u001b[0;32m     22\u001b[0m     \u001b[38;5;124m\"\u001b[39m\u001b[38;5;124mSpatial indexes require either `rtree` or `pygeos`. \u001b[39m\u001b[38;5;124m\"\u001b[39m\n\u001b[0;32m     23\u001b[0m     \u001b[38;5;124m\"\u001b[39m\u001b[38;5;124mSee installation instructions at https://geopandas.org/install.html\u001b[39m\u001b[38;5;124m\"\u001b[39m\n\u001b[0;32m     24\u001b[0m )\n",
      "\u001b[1;31mImportError\u001b[0m: Spatial indexes require either `rtree` or `pygeos`. See installation instructions at https://geopandas.org/install.html"
     ]
    }
   ],
   "source": [
    "rivers_colombia = gpd.clip(gdf=rivers,\n",
    "                               mask=colombia)\n",
    "\n",
    "# you have:\n",
    "\n",
    "rivers_colombia.plot()"
   ]
  },
  {
   "cell_type": "code",
   "execution_count": null,
   "id": "a19bea81",
   "metadata": {},
   "outputs": [],
   "source": []
  },
  {
   "cell_type": "code",
   "execution_count": 9,
   "id": "81486287",
   "metadata": {},
   "outputs": [
    {
     "data": {
      "text/plain": [
       "[Axis(name=Geodetic latitude, abbrev=Lat, direction=north, unit_auth_code=EPSG, unit_code=9122, unit_name=degree),\n",
       " Axis(name=Geodetic longitude, abbrev=Lon, direction=east, unit_auth_code=EPSG, unit_code=9122, unit_name=degree)]"
      ]
     },
     "execution_count": 9,
     "metadata": {},
     "output_type": "execute_result"
    }
   ],
   "source": [
    "# unit is in degrees:\n",
    "colombia.crs.axis_info"
   ]
  },
  {
   "cell_type": "code",
   "execution_count": 10,
   "id": "74856b41",
   "metadata": {},
   "outputs": [
    {
     "data": {
      "text/plain": [
       "[Axis(name=Northing, abbrev=X, direction=north, unit_auth_code=EPSG, unit_code=9001, unit_name=metre),\n",
       " Axis(name=Easting, abbrev=Y, direction=east, unit_auth_code=EPSG, unit_code=9001, unit_name=metre)]"
      ]
     },
     "execution_count": 10,
     "metadata": {},
     "output_type": "execute_result"
    }
   ],
   "source": [
    "# Find the right CRS for the country, and make sure the other maps share the same one.\n",
    "colombia.to_crs(21897).crs.axis_info"
   ]
  },
  {
   "cell_type": "code",
   "execution_count": null,
   "id": "28981537",
   "metadata": {},
   "outputs": [],
   "source": []
  }
 ],
 "metadata": {
  "kernelspec": {
   "display_name": "Python 3 (ipykernel)",
   "language": "python",
   "name": "python3"
  },
  "language_info": {
   "codemirror_mode": {
    "name": "ipython",
    "version": 3
   },
   "file_extension": ".py",
   "mimetype": "text/x-python",
   "name": "python",
   "nbconvert_exporter": "python",
   "pygments_lexer": "ipython3",
   "version": "3.11.4"
  }
 },
 "nbformat": 4,
 "nbformat_minor": 5
}
